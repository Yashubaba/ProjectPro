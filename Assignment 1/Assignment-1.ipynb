{
 "cells": [
  {
   "cell_type": "markdown",
   "id": "87cbf940-ff47-4818-8317-c496eff80ca4",
   "metadata": {},
   "source": [
    "Q1. Create one variable containing following type of data:\n",
    "(i) string\n",
    "(ii) list\n",
    "(iii) float\n",
    "(iv) tuple"
   ]
  },
  {
   "cell_type": "code",
   "execution_count": 2,
   "id": "3c7a8178-ba27-41f2-9af6-9b225b9109df",
   "metadata": {},
   "outputs": [],
   "source": [
    "a = \"Ram\""
   ]
  },
  {
   "cell_type": "code",
   "execution_count": 3,
   "id": "269e74c1-a156-4619-8237-68f09a35ce8d",
   "metadata": {},
   "outputs": [
    {
     "data": {
      "text/plain": [
       "str"
      ]
     },
     "execution_count": 3,
     "metadata": {},
     "output_type": "execute_result"
    }
   ],
   "source": [
    "type(a)"
   ]
  },
  {
   "cell_type": "code",
   "execution_count": 4,
   "id": "9d0215c1-9d25-48b7-869d-b4375814660d",
   "metadata": {},
   "outputs": [],
   "source": [
    "b = [7,4,6,\"Sita\",40.65]"
   ]
  },
  {
   "cell_type": "code",
   "execution_count": 5,
   "id": "2126c487-abd4-418a-95ba-b888001a1f4a",
   "metadata": {},
   "outputs": [
    {
     "data": {
      "text/plain": [
       "list"
      ]
     },
     "execution_count": 5,
     "metadata": {},
     "output_type": "execute_result"
    }
   ],
   "source": [
    "type(b)"
   ]
  },
  {
   "cell_type": "code",
   "execution_count": 6,
   "id": "626cc9c3-3781-4f1f-a4f1-9db83fc7a232",
   "metadata": {},
   "outputs": [],
   "source": [
    "c = 45.67"
   ]
  },
  {
   "cell_type": "code",
   "execution_count": 7,
   "id": "6abccbe7-551c-4daa-996e-5a81ecfd021f",
   "metadata": {},
   "outputs": [
    {
     "data": {
      "text/plain": [
       "float"
      ]
     },
     "execution_count": 7,
     "metadata": {},
     "output_type": "execute_result"
    }
   ],
   "source": [
    "type(c)"
   ]
  },
  {
   "cell_type": "code",
   "execution_count": 8,
   "id": "6c4096d0-1ab6-4fc3-a9a0-195029951e54",
   "metadata": {},
   "outputs": [],
   "source": [
    "d = (1,'b',5)"
   ]
  },
  {
   "cell_type": "code",
   "execution_count": 9,
   "id": "eb6eee46-76de-44a8-8e6b-9beddd3ecd74",
   "metadata": {},
   "outputs": [
    {
     "data": {
      "text/plain": [
       "tuple"
      ]
     },
     "execution_count": 9,
     "metadata": {},
     "output_type": "execute_result"
    }
   ],
   "source": [
    "type(d)"
   ]
  },
  {
   "cell_type": "markdown",
   "id": "fb7f4670-ab0b-471b-9a2b-4c55886309f9",
   "metadata": {},
   "source": [
    "Q2. Given are some following variables containing data:\n",
    "(i) var1 = ‘ ‘\n",
    "(ii) var2 = ‘[ DS , ML , Python]’\n",
    "(iii) var3 = [ ‘DS’ , ’ML’ , ‘Python’ ]\n",
    "(iv) var4 = 1.\n",
    "What will be the data type of the above given variable."
   ]
  },
  {
   "cell_type": "code",
   "execution_count": 10,
   "id": "f46ad1d8-d193-4d1f-b654-d9e63e17296a",
   "metadata": {},
   "outputs": [],
   "source": [
    "var1 = ''"
   ]
  },
  {
   "cell_type": "code",
   "execution_count": 11,
   "id": "f6ae38e1-46c2-41a6-84e8-4af9b8be5270",
   "metadata": {},
   "outputs": [
    {
     "data": {
      "text/plain": [
       "''"
      ]
     },
     "execution_count": 11,
     "metadata": {},
     "output_type": "execute_result"
    }
   ],
   "source": [
    "var1"
   ]
  },
  {
   "cell_type": "code",
   "execution_count": 12,
   "id": "9918ca73-bc08-4aa9-b149-4ec4efd09316",
   "metadata": {},
   "outputs": [
    {
     "data": {
      "text/plain": [
       "str"
      ]
     },
     "execution_count": 12,
     "metadata": {},
     "output_type": "execute_result"
    }
   ],
   "source": [
    "type(var1)"
   ]
  },
  {
   "cell_type": "code",
   "execution_count": 13,
   "id": "703e7903-aa7e-460b-88ce-9a3ffac08b36",
   "metadata": {},
   "outputs": [],
   "source": [
    "var2 = '[DS,ML,Python]'"
   ]
  },
  {
   "cell_type": "code",
   "execution_count": 14,
   "id": "41a97ee1-c2ec-41ef-8e95-9c04f61f5341",
   "metadata": {},
   "outputs": [
    {
     "data": {
      "text/plain": [
       "'[DS,ML,Python]'"
      ]
     },
     "execution_count": 14,
     "metadata": {},
     "output_type": "execute_result"
    }
   ],
   "source": [
    "var2"
   ]
  },
  {
   "cell_type": "code",
   "execution_count": 15,
   "id": "c6232194-0201-402a-a421-9ddaca3357c9",
   "metadata": {},
   "outputs": [
    {
     "data": {
      "text/plain": [
       "str"
      ]
     },
     "execution_count": 15,
     "metadata": {},
     "output_type": "execute_result"
    }
   ],
   "source": [
    "type(var2)"
   ]
  },
  {
   "cell_type": "code",
   "execution_count": 16,
   "id": "fc478f5d-a177-4d23-bdf6-0eed0a01664d",
   "metadata": {},
   "outputs": [],
   "source": [
    "var3 = ['DS','ML','Python']"
   ]
  },
  {
   "cell_type": "code",
   "execution_count": 17,
   "id": "45a88858-6d83-4a74-94cd-1b6b63ad3105",
   "metadata": {},
   "outputs": [
    {
     "data": {
      "text/plain": [
       "['DS', 'ML', 'Python']"
      ]
     },
     "execution_count": 17,
     "metadata": {},
     "output_type": "execute_result"
    }
   ],
   "source": [
    "var3"
   ]
  },
  {
   "cell_type": "code",
   "execution_count": 18,
   "id": "e4c9b48f-de82-424e-904b-deac2f545e89",
   "metadata": {},
   "outputs": [
    {
     "data": {
      "text/plain": [
       "list"
      ]
     },
     "execution_count": 18,
     "metadata": {},
     "output_type": "execute_result"
    }
   ],
   "source": [
    "type(var3)"
   ]
  },
  {
   "cell_type": "code",
   "execution_count": 19,
   "id": "86b7d71e-a7ed-4c14-b4cb-03798301012e",
   "metadata": {},
   "outputs": [],
   "source": [
    "var4 = 1"
   ]
  },
  {
   "cell_type": "code",
   "execution_count": 20,
   "id": "20f84876-a08a-4a11-b4e8-f4ab2139690f",
   "metadata": {},
   "outputs": [
    {
     "data": {
      "text/plain": [
       "1"
      ]
     },
     "execution_count": 20,
     "metadata": {},
     "output_type": "execute_result"
    }
   ],
   "source": [
    "var4"
   ]
  },
  {
   "cell_type": "code",
   "execution_count": 21,
   "id": "7caee08d-ce78-4289-9503-330ae1e0504e",
   "metadata": {},
   "outputs": [
    {
     "data": {
      "text/plain": [
       "int"
      ]
     },
     "execution_count": 21,
     "metadata": {},
     "output_type": "execute_result"
    }
   ],
   "source": [
    "type(var4)"
   ]
  },
  {
   "cell_type": "markdown",
   "id": "2303302c-668c-4eb3-9d18-d1708e622f15",
   "metadata": {},
   "source": [
    "Q3. Explain the use of the following operators using an example:\n",
    "(i) /\n",
    "(ii) %\n",
    "(iii) //\n",
    "(iv) **"
   ]
  },
  {
   "cell_type": "code",
   "execution_count": 22,
   "id": "0ff9e78f-50f8-4dff-96fd-2b99e24e0b0f",
   "metadata": {},
   "outputs": [
    {
     "data": {
      "text/plain": [
       "3.75"
      ]
     },
     "execution_count": 22,
     "metadata": {},
     "output_type": "execute_result"
    }
   ],
   "source": [
    "15/4   # use for float division"
   ]
  },
  {
   "cell_type": "code",
   "execution_count": 23,
   "id": "f3a96fc1-2a49-412a-b0b4-efdf4e052f29",
   "metadata": {},
   "outputs": [
    {
     "data": {
      "text/plain": [
       "3"
      ]
     },
     "execution_count": 23,
     "metadata": {},
     "output_type": "execute_result"
    }
   ],
   "source": [
    "15%4  # it gives remainder"
   ]
  },
  {
   "cell_type": "code",
   "execution_count": 24,
   "id": "083c3e64-d6a8-4c36-8c7c-283f9170d586",
   "metadata": {},
   "outputs": [
    {
     "data": {
      "text/plain": [
       "3"
      ]
     },
     "execution_count": 24,
     "metadata": {},
     "output_type": "execute_result"
    }
   ],
   "source": [
    "15//4  #use for integer division or floor division"
   ]
  },
  {
   "cell_type": "code",
   "execution_count": 25,
   "id": "6f1e6eed-d8da-4090-a956-91b66f5402b6",
   "metadata": {},
   "outputs": [
    {
     "data": {
      "text/plain": [
       "50625"
      ]
     },
     "execution_count": 25,
     "metadata": {},
     "output_type": "execute_result"
    }
   ],
   "source": [
    "15**4   #use for exponential operator"
   ]
  },
  {
   "cell_type": "markdown",
   "id": "e8412e64-0310-41ee-8500-26d65a195ba9",
   "metadata": {},
   "source": [
    "Q4. Create a list of length 10 of your choice containing multiple types of data. Using for loop print the\n",
    "element and its data type."
   ]
  },
  {
   "cell_type": "code",
   "execution_count": 26,
   "id": "84e70c17-9b29-4ea4-8c49-16e0ebf41693",
   "metadata": {},
   "outputs": [
    {
     "name": "stdout",
     "output_type": "stream",
     "text": [
      "2\n",
      "<class 'int'>\n",
      "5\n",
      "<class 'int'>\n",
      "7\n",
      "<class 'int'>\n",
      "9\n",
      "<class 'int'>\n",
      "3.4\n",
      "<class 'float'>\n",
      "True\n",
      "<class 'bool'>\n",
      "Ram\n",
      "<class 'str'>\n",
      "(4+5j)\n",
      "<class 'complex'>\n",
      "Sita\n",
      "<class 'str'>\n",
      "False\n",
      "<class 'bool'>\n"
     ]
    }
   ],
   "source": [
    "list1 = [2,5,7,9,3.4,True,'Ram',(4+5j),\"Sita\",False]\n",
    "for i in list1:\n",
    "    print(i)\n",
    "    print(type(i))"
   ]
  },
  {
   "cell_type": "markdown",
   "id": "130df905-9f46-4ae8-845d-5dab204e36cd",
   "metadata": {},
   "source": [
    "Q5. Using a while loop, verify if the number A is purely divisible by number B and if so then how many\n",
    "times it can be divisible."
   ]
  },
  {
   "cell_type": "code",
   "execution_count": 1,
   "id": "4eeffed5-6d1e-4ef3-bcb5-c63733eda758",
   "metadata": {},
   "outputs": [
    {
     "name": "stdout",
     "output_type": "stream",
     "text": [
      "3.0\n"
     ]
    }
   ],
   "source": [
    "A = 30\n",
    "B = 10\n",
    "if A>=B:\n",
    "    V = A/B\n",
    "    print(V)\n"
   ]
  },
  {
   "cell_type": "markdown",
   "id": "7154d52f-5212-4fed-a5ab-16dd2af38827",
   "metadata": {},
   "source": [
    "Q6. Create a list containing 25 int type data. Using for loop and if-else condition print if the element is\n",
    "divisible by 3 or not."
   ]
  },
  {
   "cell_type": "code",
   "execution_count": 1,
   "id": "d3df649b-4638-4669-9419-d4582ee8827d",
   "metadata": {},
   "outputs": [
    {
     "name": "stdout",
     "output_type": "stream",
     "text": [
      "6 Yes , this number is divisible by 3\n",
      "9 Yes , this number is divisible by 3\n",
      "12 Yes , this number is divisible by 3\n",
      "24 Yes , this number is divisible by 3\n",
      "3 Yes , this number is divisible by 3\n",
      "78 Yes , this number is divisible by 3\n",
      "45 Yes , this number is divisible by 3\n",
      "42 Yes , this number is divisible by 3\n",
      "54 Yes , this number is divisible by 3\n",
      "87 Yes , this number is divisible by 3\n",
      "90 Yes , this number is divisible by 3\n",
      "87 Yes , this number is divisible by 3\n",
      "\n"
     ]
    }
   ],
   "source": [
    "list = [5,6,8,9,12,24,25,3,4,56,78,45,67,89,40,32,42,53,76,54,87,90,87,95,19]\n",
    "for i in list:\n",
    "    if i%3==0:\n",
    "        print(i,'Yes , this number is divisible by 3')\n",
    "        i=i+1\n",
    "else:\n",
    "     print('')"
   ]
  },
  {
   "cell_type": "code",
   "execution_count": 2,
   "id": "72f8e46c-c472-4a6c-90bb-b8cd8ab11ca0",
   "metadata": {},
   "outputs": [
    {
     "name": "stdout",
     "output_type": "stream",
     "text": [
      "5 No ,this number is not divisible by 3\n",
      "6 Yes ,this number is divisible by 3\n",
      "7 No ,this number is not divisible by 3\n",
      "8 No ,this number is not divisible by 3\n",
      "9 Yes ,this number is divisible by 3\n",
      "10 No ,this number is not divisible by 3\n",
      "12 Yes ,this number is divisible by 3\n",
      "13 No ,this number is not divisible by 3\n",
      "24 Yes ,this number is divisible by 3\n",
      "25 No ,this number is not divisible by 3\n",
      "25 No ,this number is not divisible by 3\n",
      "3 Yes ,this number is divisible by 3\n",
      "4 No ,this number is not divisible by 3\n",
      "4 No ,this number is not divisible by 3\n",
      "56 No ,this number is not divisible by 3\n",
      "78 Yes ,this number is divisible by 3\n",
      "79 No ,this number is not divisible by 3\n",
      "45 Yes ,this number is divisible by 3\n",
      "46 No ,this number is not divisible by 3\n",
      "67 No ,this number is not divisible by 3\n",
      "89 No ,this number is not divisible by 3\n",
      "40 No ,this number is not divisible by 3\n",
      "32 No ,this number is not divisible by 3\n",
      "42 Yes ,this number is divisible by 3\n",
      "43 No ,this number is not divisible by 3\n",
      "53 No ,this number is not divisible by 3\n",
      "76 No ,this number is not divisible by 3\n",
      "54 Yes ,this number is divisible by 3\n",
      "55 No ,this number is not divisible by 3\n",
      "87 Yes ,this number is divisible by 3\n",
      "88 No ,this number is not divisible by 3\n",
      "90 Yes ,this number is divisible by 3\n",
      "91 No ,this number is not divisible by 3\n",
      "87 Yes ,this number is divisible by 3\n",
      "88 No ,this number is not divisible by 3\n",
      "95 No ,this number is not divisible by 3\n",
      "19 No ,this number is not divisible by 3\n"
     ]
    }
   ],
   "source": [
    "list = [5,6,8,9,12,24,25,3,4,56,78,45,67,89,40,32,42,53,76,54,87,90,87,95,19]\n",
    "for i in list:\n",
    "    if i%3==0:\n",
    "        print(i,'Yes ,this number is divisible by 3')\n",
    "        i=i+1\n",
    "    if i%3!=0:\n",
    "        print(i,'No ,this number is not divisible by 3')"
   ]
  },
  {
   "cell_type": "markdown",
   "id": "fc1372cc-67b8-4420-8cf2-f8d66732fcba",
   "metadata": {},
   "source": [
    "#Q7. What do you understand about mutable and immutable data types? Give examples for both showing\n",
    "this property."
   ]
  },
  {
   "cell_type": "code",
   "execution_count": null,
   "id": "c69722b0-bc1b-4229-8ee9-2505b44fdfd1",
   "metadata": {},
   "outputs": [],
   "source": [
    "# A mutable object can be changed on a perticular index value ,after it is created.\n",
    "# examle: List,Set,Dictonary"
   ]
  },
  {
   "cell_type": "code",
   "execution_count": null,
   "id": "106d6276-7639-432d-a56b-4b0eccef5622",
   "metadata": {},
   "outputs": [],
   "source": [
    "Yash = [3,4,5,\"Shyam\"]"
   ]
  },
  {
   "cell_type": "code",
   "execution_count": 18,
   "id": "64deef64-81a3-47f5-bb24-21019b048aa7",
   "metadata": {},
   "outputs": [
    {
     "data": {
      "text/plain": [
       "[3, 4, 5, 'Shyam']"
      ]
     },
     "execution_count": 18,
     "metadata": {},
     "output_type": "execute_result"
    }
   ],
   "source": [
    "Yash"
   ]
  },
  {
   "cell_type": "code",
   "execution_count": 19,
   "id": "bae9b50b-aeb8-4d9f-b842-938acbe22dba",
   "metadata": {},
   "outputs": [],
   "source": [
    "Yash[2] = 200"
   ]
  },
  {
   "cell_type": "code",
   "execution_count": 20,
   "id": "f327e642-167a-46a8-9d6c-f5c0e45d465b",
   "metadata": {},
   "outputs": [
    {
     "data": {
      "text/plain": [
       "[3, 4, 200, 'Shyam']"
      ]
     },
     "execution_count": 20,
     "metadata": {},
     "output_type": "execute_result"
    }
   ],
   "source": [
    "Yash"
   ]
  },
  {
   "cell_type": "code",
   "execution_count": 21,
   "id": "43fe6bb7-c5bb-45c8-9921-d78e9c68ea0b",
   "metadata": {},
   "outputs": [],
   "source": [
    "# An immutable object can't be changed on a particular index value ,after it is created.\n",
    "# example : string, tuple, float, bool"
   ]
  },
  {
   "cell_type": "code",
   "execution_count": 23,
   "id": "6bbeacca-1be9-4dd1-ab73-7600a2b43b78",
   "metadata": {},
   "outputs": [],
   "source": [
    "Yash1 = \"Ram\""
   ]
  },
  {
   "cell_type": "code",
   "execution_count": 24,
   "id": "17b55315-20e6-4d29-b0f9-d5c5c52c4ae3",
   "metadata": {},
   "outputs": [
    {
     "data": {
      "text/plain": [
       "'Ram'"
      ]
     },
     "execution_count": 24,
     "metadata": {},
     "output_type": "execute_result"
    }
   ],
   "source": [
    "Yash1"
   ]
  },
  {
   "cell_type": "code",
   "execution_count": 28,
   "id": "feb9e54e-0ddd-4167-b93a-7c303f1ead15",
   "metadata": {},
   "outputs": [
    {
     "data": {
      "text/plain": [
       "'R'"
      ]
     },
     "execution_count": 28,
     "metadata": {},
     "output_type": "execute_result"
    }
   ],
   "source": [
    "Yash1[0]"
   ]
  },
  {
   "cell_type": "code",
   "execution_count": 29,
   "id": "a83c5123-4fdb-4431-aaf3-53f06913b0d9",
   "metadata": {},
   "outputs": [
    {
     "ename": "TypeError",
     "evalue": "'str' object does not support item assignment",
     "output_type": "error",
     "traceback": [
      "\u001b[0;31m---------------------------------------------------------------------------\u001b[0m",
      "\u001b[0;31mTypeError\u001b[0m                                 Traceback (most recent call last)",
      "Cell \u001b[0;32mIn[29], line 1\u001b[0m\n\u001b[0;32m----> 1\u001b[0m \u001b[43mYash1\u001b[49m\u001b[43m[\u001b[49m\u001b[38;5;241;43m0\u001b[39;49m\u001b[43m]\u001b[49m\u001b[38;5;241m=\u001b[39m\u001b[38;5;124m'\u001b[39m\u001b[38;5;124mS\u001b[39m\u001b[38;5;124m'\u001b[39m\n",
      "\u001b[0;31mTypeError\u001b[0m: 'str' object does not support item assignment"
     ]
    }
   ],
   "source": [
    "Yash1[0]='S'"
   ]
  }
 ],
 "metadata": {
  "kernelspec": {
   "display_name": "Python 3 (ipykernel)",
   "language": "python",
   "name": "python3"
  },
  "language_info": {
   "codemirror_mode": {
    "name": "ipython",
    "version": 3
   },
   "file_extension": ".py",
   "mimetype": "text/x-python",
   "name": "python",
   "nbconvert_exporter": "python",
   "pygments_lexer": "ipython3",
   "version": "3.10.8"
  }
 },
 "nbformat": 4,
 "nbformat_minor": 5
}
