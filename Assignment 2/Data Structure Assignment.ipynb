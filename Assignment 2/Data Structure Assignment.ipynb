{
 "cells": [
  {
   "cell_type": "markdown",
   "id": "b4ef282a-c251-4725-a080-666c585779b7",
   "metadata": {},
   "source": [
    "Q1. How do you comment code in Python? What are the different types of comments?\n",
    "\n"
   ]
  },
  {
   "cell_type": "markdown",
   "id": "d493059d-523f-4422-b1ab-3bc21ff5d968",
   "metadata": {
    "tags": []
   },
   "source": [
    "Comments in Python are the lines in the code that are ignored by the interpreter during the execution of the program. Comments enhance the readability of the code and help the programmers to understand the code very carefully. Comments in Python are identified with a hash symbol, #, and extend to the end of the line.\n",
    "\n",
    "There are three types of comments in Python:\n",
    "\n",
    "a.Single line Comments\n",
    "b.Multiline Comments\n",
    "c.Docstring Comments\n",
    "\n",
    "a.Single-Line Comments:\n",
    "\n",
    "Single-line comments begin with the “#” character. Anything that is written in a single line after ‘#’ is considered as a comment. The syntax for writing single-line comments is: # ,comments here\n"
   ]
  },
  {
   "cell_type": "code",
   "execution_count": 3,
   "id": "ac5ffbee-a616-4630-befc-e667c13f0471",
   "metadata": {},
   "outputs": [
    {
     "name": "stdout",
     "output_type": "stream",
     "text": [
      "My house is so beutiful\n"
     ]
    }
   ],
   "source": [
    "# discription about my house\n",
    "print(\"My house is so beutiful\")"
   ]
  },
  {
   "cell_type": "markdown",
   "id": "e6204525-8b13-4fad-bcfd-0cc07e6dfd28",
   "metadata": {},
   "source": [
    "b.Multi-Line Comments in Python:\n",
    "    \n",
    "Python does not provide the option for multiline comments. However, there are different ways through which we can write multiline comments.\n",
    "\n",
    "Multiline comments using multiple hashtags (#)\n",
    "\n",
    "We can multiple hashtags (#) to write multiline comments in Python. Each and every line will be considered as a single-line comment."
   ]
  },
  {
   "cell_type": "code",
   "execution_count": 4,
   "id": "079e8537-acce-431f-ab5c-6f0eb851cf37",
   "metadata": {},
   "outputs": [
    {
     "name": "stdout",
     "output_type": "stream",
     "text": [
      "{'house number': 1245, 'Gali number': 4, 'sector': 13, 'State': 'Haryana'}\n"
     ]
    }
   ],
   "source": [
    "# defining general structure of a house\n",
    "House = {'house number':1245 , # Randomly assign\n",
    "         'Gali number':4 ,#  East rajiv nagar\n",
    "         'sector': 13, #  Gurgaon\n",
    "         'State': 'Haryana' \n",
    "        }\n",
    "print(House)"
   ]
  },
  {
   "cell_type": "markdown",
   "id": "e9a43e8a-a36f-4c78-91d9-9a2431800e2b",
   "metadata": {},
   "source": [
    "b.a. Single-line comments using string literals\n",
    "\n",
    "On executing the  code we can see that there will not be any output so we use the strings with triple quotes(“””) as multiline comments."
   ]
  },
  {
   "cell_type": "code",
   "execution_count": 9,
   "id": "c12b1293-1ad2-4c25-adaf-6408c3a5a568",
   "metadata": {},
   "outputs": [
    {
     "name": "stdout",
     "output_type": "stream",
     "text": [
      "Hello , I am yashwant Singh\n"
     ]
    }
   ],
   "source": [
    "\"\"\" My introduction\"\"\"\n",
    "print(\"Hello , I am yashwant Singh\")"
   ]
  },
  {
   "cell_type": "code",
   "execution_count": 8,
   "id": "53593f17-3a36-40c9-82d1-664834c0d91e",
   "metadata": {},
   "outputs": [
    {
     "name": "stdout",
     "output_type": "stream",
     "text": [
      "Multiline comments\n"
     ]
    }
   ],
   "source": [
    "\"\"\" Python program to demonstrate\n",
    "multiline comments\"\"\"\n",
    "print(\"Multiline comments\")\n"
   ]
  },
  {
   "cell_type": "markdown",
   "id": "11fe4af0-5c43-452d-bbdc-17d1f3ebd59c",
   "metadata": {},
   "source": [
    "c. Docstring comments:\n",
    "\n",
    "Python docstring is the string literals with triple quotes that are appeared right after the function. It is used to associate documentation that has been written with Python modules, functions, classes, and methods. It is added right below the functions, modules, or classes to describe what they do. "
   ]
  },
  {
   "cell_type": "code",
   "execution_count": 10,
   "id": "d5e491c9-ccbb-431b-ba24-34cbad0c1467",
   "metadata": {},
   "outputs": [
    {
     "name": "stdout",
     "output_type": "stream",
     "text": [
      "Multiplies the value of a and b\n"
     ]
    }
   ],
   "source": [
    "def multiply(a, b):\n",
    "\t\"\"\"Multiplies the value of a and b\"\"\"\n",
    "\treturn a*b\n",
    "\n",
    "\n",
    "# Print the docstring of multiply function\n",
    "print(multiply.__doc__)\n"
   ]
  },
  {
   "cell_type": "code",
   "execution_count": null,
   "id": "8fece2c5-c99c-4df4-8aba-b86588051c84",
   "metadata": {},
   "outputs": [],
   "source": []
  },
  {
   "cell_type": "markdown",
   "id": "95974bab-951f-493d-ad8c-5e5a548155c8",
   "metadata": {},
   "source": [
    "Q2. What are variables in Python? How do you declare and assign values to variables?"
   ]
  },
  {
   "cell_type": "markdown",
   "id": "e1c9a364-1350-45d5-967b-67763e341532",
   "metadata": {},
   "source": [
    "Variables are containers for storing data values.\n",
    "\n",
    "Creating Variables:\n",
    "\n",
    "Python has no command for declaring a variable.\n",
    "variable names are case-sensitive.\n",
    "A variable is created the moment you first assign a value to it."
   ]
  },
  {
   "cell_type": "code",
   "execution_count": 11,
   "id": "7b4993c2-1348-4890-9b7f-b094f45a10ff",
   "metadata": {},
   "outputs": [
    {
     "name": "stdout",
     "output_type": "stream",
     "text": [
      "<class 'int'>\n",
      "<class 'str'>\n"
     ]
    }
   ],
   "source": [
    "x = 5\n",
    "y = \"John\"\n",
    "print(type(x))\n",
    "print(type(y))"
   ]
  },
  {
   "cell_type": "code",
   "execution_count": 13,
   "id": "ffd2c2c1-2056-4591-a1ab-eb1cfc952f61",
   "metadata": {},
   "outputs": [
    {
     "name": "stdout",
     "output_type": "stream",
     "text": [
      "John\n"
     ]
    }
   ],
   "source": [
    "x = \"John\"\n",
    "# is the same as\n",
    "x = 'John'\n",
    "print(x)"
   ]
  },
  {
   "cell_type": "code",
   "execution_count": null,
   "id": "742fe6ba-c442-47e5-9164-1bb90e76d00a",
   "metadata": {},
   "outputs": [],
   "source": []
  },
  {
   "cell_type": "markdown",
   "id": "c409a42c-47f4-443f-abd8-3854ac5d7a80",
   "metadata": {},
   "source": [
    "Q3. How do you convert one data type to another in Python?"
   ]
  },
  {
   "cell_type": "markdown",
   "id": "6604b1a2-a61b-46d4-813f-d12f5ae13b08",
   "metadata": {},
   "source": [
    "If you want to specify the data type of a variable, this can be done with casting."
   ]
  },
  {
   "cell_type": "code",
   "execution_count": 22,
   "id": "362b0a2a-db8f-4b9c-b308-79dc30e51d53",
   "metadata": {},
   "outputs": [
    {
     "name": "stdout",
     "output_type": "stream",
     "text": [
      "3\n",
      "3\n",
      "3.0\n",
      "<class 'str'>\n",
      "<class 'int'>\n",
      "<class 'float'>\n"
     ]
    }
   ],
   "source": [
    "x = str(3)    # x will be '3'\n",
    "y = int(3)    # y will be 3\n",
    "z = float(3)  # z will be 3.0\n",
    "\n",
    "print(x)\n",
    "print(y)\n",
    "print(z)\n",
    "\n",
    "print(type(x))\n",
    "print(type(y))\n",
    "print(type(z))"
   ]
  },
  {
   "cell_type": "code",
   "execution_count": null,
   "id": "c5dac614-b313-4bf3-be4a-1e094313de29",
   "metadata": {},
   "outputs": [],
   "source": []
  },
  {
   "cell_type": "markdown",
   "id": "5e0e7464-0bc0-4a36-90c0-9dba253bc33e",
   "metadata": {},
   "source": [
    "Q4. How do you write and execute a Python script from the command line?"
   ]
  },
  {
   "cell_type": "markdown",
   "id": "9d13b4ea-940d-43a2-8d25-8878235cdc9a",
   "metadata": {},
   "source": [
    "The most basic and easy way to run a Python script is by using the python command. You need to open a command line and type the word python followed by the path to your script file like this:\n",
    "\n",
    "python first_script.py\n",
    "Hello World!\n",
    "\n",
    "\n",
    "Then you hit the ENTER button from the keyboard, and that's it. You can see the phrase Hello World! on the screen."
   ]
  },
  {
   "cell_type": "code",
   "execution_count": null,
   "id": "dfd5e83a-7eec-4b0d-95a7-b79c3d2fad3e",
   "metadata": {},
   "outputs": [],
   "source": []
  },
  {
   "cell_type": "markdown",
   "id": "89fecc40-3935-4ea7-950f-a34ccd0a1cb5",
   "metadata": {},
   "source": [
    "Q5. Given a list my_list = [1, 2, 3, 4, 5], write the code to slice the list and obtain the sub-list [2, 3]."
   ]
  },
  {
   "cell_type": "code",
   "execution_count": 23,
   "id": "444a1fa9-e7f8-452e-8069-87eace837d64",
   "metadata": {},
   "outputs": [],
   "source": [
    "my_list = [1,2,3,4,5]"
   ]
  },
  {
   "cell_type": "code",
   "execution_count": 25,
   "id": "1446f67f-7dba-4dd7-8c24-bb0594bdf303",
   "metadata": {},
   "outputs": [
    {
     "data": {
      "text/plain": [
       "[2, 3]"
      ]
     },
     "execution_count": 25,
     "metadata": {},
     "output_type": "execute_result"
    }
   ],
   "source": [
    "my_list[1:3]"
   ]
  },
  {
   "cell_type": "code",
   "execution_count": null,
   "id": "17b7aff2-2bf9-4293-89a0-882e7c72bc74",
   "metadata": {},
   "outputs": [],
   "source": []
  },
  {
   "cell_type": "markdown",
   "id": "5b4e1625-2001-40fe-bd60-77e69ecd799a",
   "metadata": {},
   "source": [
    "Q6. What is a complex number in mathematics, and how is it represented in Python?"
   ]
  },
  {
   "cell_type": "markdown",
   "id": "be95ed5e-fb52-4b98-8793-8e465887f0d7",
   "metadata": {},
   "source": [
    "In mathematics:\n",
    "\n",
    "Complex numbers are the numbers that are expressed in the form of a+ib where, a,b are real numbers and 'i' is an imaginary number called “iota”."
   ]
  },
  {
   "cell_type": "markdown",
   "id": "c33fc291-3b13-4e9c-9023-6a5589766470",
   "metadata": {},
   "source": [
    "But in python :\n",
    "    \n",
    "It is written in the form of (x + yj) where x and y are real numbers and j is an imaginary number which is the square root of"
   ]
  },
  {
   "cell_type": "code",
   "execution_count": 27,
   "id": "6477f76e-bd8b-4946-9f33-3e996b1e0a57",
   "metadata": {},
   "outputs": [],
   "source": [
    "Y = 4+7j"
   ]
  },
  {
   "cell_type": "code",
   "execution_count": 28,
   "id": "1f18af60-7adf-45bc-9d35-f64d00e66afe",
   "metadata": {},
   "outputs": [
    {
     "data": {
      "text/plain": [
       "complex"
      ]
     },
     "execution_count": 28,
     "metadata": {},
     "output_type": "execute_result"
    }
   ],
   "source": [
    "type(Y)"
   ]
  },
  {
   "cell_type": "code",
   "execution_count": 30,
   "id": "86855282-b05d-4fc7-a8e8-17bdee8a235c",
   "metadata": {},
   "outputs": [
    {
     "ename": "SyntaxError",
     "evalue": "invalid decimal literal (202422704.py, line 1)",
     "output_type": "error",
     "traceback": [
      "\u001b[0;36m  Cell \u001b[0;32mIn[30], line 1\u001b[0;36m\u001b[0m\n\u001b[0;31m    A = 3+7i  # In python J is represent the imaginary number\u001b[0m\n\u001b[0m          ^\u001b[0m\n\u001b[0;31mSyntaxError\u001b[0m\u001b[0;31m:\u001b[0m invalid decimal literal\n"
     ]
    }
   ],
   "source": [
    "A = 3+7i  # In python J is represent the imaginary number"
   ]
  },
  {
   "cell_type": "code",
   "execution_count": null,
   "id": "f02266ef-64c3-4e06-92da-070185d4f415",
   "metadata": {},
   "outputs": [],
   "source": []
  },
  {
   "cell_type": "markdown",
   "id": "9df7868c-0439-423f-8c72-a3de1d782b29",
   "metadata": {},
   "source": [
    "Q7. What is the correct way to declare a variable named age and assign the value 25 to it?"
   ]
  },
  {
   "cell_type": "code",
   "execution_count": 31,
   "id": "d49673ed-a2e5-44d0-aa6f-a9a1458944f8",
   "metadata": {},
   "outputs": [],
   "source": [
    "name_age = 25"
   ]
  },
  {
   "cell_type": "code",
   "execution_count": 32,
   "id": "9561ee17-5dcf-4b72-af8b-931313e7726e",
   "metadata": {},
   "outputs": [
    {
     "data": {
      "text/plain": [
       "25"
      ]
     },
     "execution_count": 32,
     "metadata": {},
     "output_type": "execute_result"
    }
   ],
   "source": [
    "name_age"
   ]
  },
  {
   "cell_type": "code",
   "execution_count": 33,
   "id": "6bb29673-0311-4950-9778-7016c6af6e26",
   "metadata": {},
   "outputs": [
    {
     "data": {
      "text/plain": [
       "int"
      ]
     },
     "execution_count": 33,
     "metadata": {},
     "output_type": "execute_result"
    }
   ],
   "source": [
    "type(name_age)"
   ]
  },
  {
   "cell_type": "code",
   "execution_count": null,
   "id": "c2e6f3a1-793c-413f-b8f3-a385e160a92d",
   "metadata": {},
   "outputs": [],
   "source": []
  },
  {
   "cell_type": "markdown",
   "id": "abdf717d-543d-45d6-8921-5283f1722bd2",
   "metadata": {},
   "source": [
    "Q8. Declare a variable named price and assign the value 9.99 to it. What data type does this variable\n",
    "belong to?"
   ]
  },
  {
   "cell_type": "code",
   "execution_count": 34,
   "id": "e481bd1e-0d5b-4c90-b644-e01d5cf4a4d0",
   "metadata": {},
   "outputs": [],
   "source": [
    "price = 9.99"
   ]
  },
  {
   "cell_type": "code",
   "execution_count": 35,
   "id": "f70c4c15-4360-4307-8632-c3a0ad75a2c8",
   "metadata": {},
   "outputs": [
    {
     "data": {
      "text/plain": [
       "float"
      ]
     },
     "execution_count": 35,
     "metadata": {},
     "output_type": "execute_result"
    }
   ],
   "source": [
    "type(price)"
   ]
  },
  {
   "cell_type": "code",
   "execution_count": null,
   "id": "48d202b0-59fc-49bb-91af-7309a5d2e96f",
   "metadata": {},
   "outputs": [],
   "source": []
  },
  {
   "cell_type": "markdown",
   "id": "fc804df9-abc1-485f-9462-c4c6dd2ff3e2",
   "metadata": {},
   "source": [
    "Q9. Create a variable named name and assign your full name to it as a string. How would you print the\n",
    "value of this variable?"
   ]
  },
  {
   "cell_type": "code",
   "execution_count": 36,
   "id": "9f5f9371-c31a-42db-bb79-5d0032b390e5",
   "metadata": {},
   "outputs": [],
   "source": [
    "name = \"Yashwant Singh\""
   ]
  },
  {
   "cell_type": "code",
   "execution_count": 37,
   "id": "b0eab7b8-3e73-41df-8a38-0a675fc227e7",
   "metadata": {},
   "outputs": [
    {
     "data": {
      "text/plain": [
       "'Yashwant Singh'"
      ]
     },
     "execution_count": 37,
     "metadata": {},
     "output_type": "execute_result"
    }
   ],
   "source": [
    "name"
   ]
  },
  {
   "cell_type": "code",
   "execution_count": 38,
   "id": "f9a020d5-308f-41a8-96a9-ff18fd84599b",
   "metadata": {},
   "outputs": [
    {
     "name": "stdout",
     "output_type": "stream",
     "text": [
      "Yashwant Singh\n"
     ]
    }
   ],
   "source": [
    "print(name)  # none type "
   ]
  },
  {
   "cell_type": "code",
   "execution_count": 39,
   "id": "7f4ce570-c6fe-45b6-b644-c20560f95c55",
   "metadata": {},
   "outputs": [
    {
     "data": {
      "text/plain": [
       "str"
      ]
     },
     "execution_count": 39,
     "metadata": {},
     "output_type": "execute_result"
    }
   ],
   "source": [
    "type(name)"
   ]
  },
  {
   "cell_type": "code",
   "execution_count": 40,
   "id": "b4aece3d-c467-437b-87bd-5131e8e2d0db",
   "metadata": {},
   "outputs": [
    {
     "name": "stdout",
     "output_type": "stream",
     "text": [
      "<class 'str'>\n"
     ]
    }
   ],
   "source": [
    "print(type(name))"
   ]
  },
  {
   "cell_type": "code",
   "execution_count": null,
   "id": "16d6f1fe-728e-4022-bf5b-b18e65f4f47d",
   "metadata": {},
   "outputs": [],
   "source": []
  },
  {
   "cell_type": "markdown",
   "id": "17cb1858-c530-4364-a351-93998892d029",
   "metadata": {},
   "source": [
    "Q10. Given the string \"Hello, World!\", extract the substring \"World\"."
   ]
  },
  {
   "cell_type": "code",
   "execution_count": 41,
   "id": "185893d8-b724-4af9-af6f-6d7019eb835d",
   "metadata": {},
   "outputs": [],
   "source": [
    "my_string = \"Hello, World!\""
   ]
  },
  {
   "cell_type": "code",
   "execution_count": 42,
   "id": "efb916be-4d28-4183-b1f1-9e20aae9df57",
   "metadata": {},
   "outputs": [
    {
     "data": {
      "text/plain": [
       "'World'"
      ]
     },
     "execution_count": 42,
     "metadata": {},
     "output_type": "execute_result"
    }
   ],
   "source": [
    "my_string[7:12]"
   ]
  },
  {
   "cell_type": "code",
   "execution_count": 43,
   "id": "ae2e40d5-2f76-48d9-b421-dd3ecb238813",
   "metadata": {},
   "outputs": [
    {
     "name": "stdout",
     "output_type": "stream",
     "text": [
      "World\n"
     ]
    }
   ],
   "source": [
    "print(my_string[7:12])"
   ]
  },
  {
   "cell_type": "code",
   "execution_count": null,
   "id": "8ee61c60-c424-4e30-9770-4ea3c980e2c0",
   "metadata": {},
   "outputs": [],
   "source": []
  },
  {
   "cell_type": "markdown",
   "id": "b296261e-30c9-4de8-8bc9-269fb4c2664f",
   "metadata": {},
   "source": [
    "Q11. Create a variable named \"is_student\" and assign it a boolean value indicating whether you are\n",
    "currently a student or not."
   ]
  },
  {
   "cell_type": "code",
   "execution_count": 47,
   "id": "f8fb959c-9919-4639-9e05-2a2ccaf5d7ce",
   "metadata": {},
   "outputs": [
    {
     "name": "stdout",
     "output_type": "stream",
     "text": [
      "True\n"
     ]
    }
   ],
   "source": [
    "is_student = True\n",
    "print(is_student)"
   ]
  },
  {
   "cell_type": "code",
   "execution_count": null,
   "id": "909bb5d0-2c2c-43a9-b36f-ba539ee804ef",
   "metadata": {},
   "outputs": [],
   "source": [
    "is_student = False\n",
    "print(is_student)"
   ]
  }
 ],
 "metadata": {
  "kernelspec": {
   "display_name": "Python 3 (ipykernel)",
   "language": "python",
   "name": "python3"
  },
  "language_info": {
   "codemirror_mode": {
    "name": "ipython",
    "version": 3
   },
   "file_extension": ".py",
   "mimetype": "text/x-python",
   "name": "python",
   "nbconvert_exporter": "python",
   "pygments_lexer": "ipython3",
   "version": "3.10.8"
  }
 },
 "nbformat": 4,
 "nbformat_minor": 5
}
